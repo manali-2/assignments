{
 "cells": [
  {
   "cell_type": "code",
   "execution_count": 5,
   "id": "c728c0e2-49e3-49b0-b634-aa09d944bdb1",
   "metadata": {},
   "outputs": [
    {
     "name": "stdin",
     "output_type": "stream",
     "text": [
      "enter the number 3\n"
     ]
    },
    {
     "name": "stdout",
     "output_type": "stream",
     "text": [
      "number is positive\n"
     ]
    }
   ],
   "source": [
    "#Write a Python program to check if a number is positive, negative or zero.\n",
    "n=int(input(\"enter the number:\"))\n",
    "if(n>0):\n",
    "    print(\"number is positive\")\n",
    "elif(n<0):\n",
    "    print(\"number is negative\")\n",
    "elif(n==0):\n",
    "    print(\"number is zero\")\n",
    "else:\n",
    "    print(\"your input value is not valid\")"
   ]
  },
  {
   "cell_type": "code",
   "execution_count": 6,
   "id": "d3c87b7c-62aa-4e81-bf5f-1c1d909fe737",
   "metadata": {},
   "outputs": [
    {
     "name": "stdin",
     "output_type": "stream",
     "text": [
      "enter the number: 5\n"
     ]
    },
    {
     "name": "stdout",
     "output_type": "stream",
     "text": [
      "factorial of  number is : 120\n"
     ]
    }
   ],
   "source": [
    "#Write a Python program to get the Factorial number of given number\n",
    "n=int(input(\"enter the number:\"))\n",
    "fact=1\n",
    "i=1\n",
    "while(i<=5):\n",
    "    fact=fact*i\n",
    "    i=i+1\n",
    "print(f'factorial of  number is : {fact}')   \n",
    "    "
   ]
  },
  {
   "cell_type": "code",
   "execution_count": 13,
   "id": "22e56b9f-2589-4d22-9678-cb2abebc6bdf",
   "metadata": {},
   "outputs": [
    {
     "name": "stdin",
     "output_type": "stream",
     "text": [
      "enter the number of fibonaccii series: 7\n"
     ]
    },
    {
     "name": "stdout",
     "output_type": "stream",
     "text": [
      "0\n",
      "1\n",
      "1\n",
      "2\n",
      "3\n",
      "5\n",
      "8\n",
      "13\n",
      "21\n"
     ]
    }
   ],
   "source": [
    "#Write a Python program to get the Fibonacci series of given range\n",
    "a=0\n",
    "b=1\n",
    "num=int(input(\"enter the number of fibonaccii series:\"))\n",
    "if num==1:\n",
    "    print(a)\n",
    "else:\n",
    "    print(a)\n",
    "    print(b)\n",
    "    for i in range(1,num+1):\n",
    "        \n",
    "         c=a+b\n",
    "         a=b\n",
    "         b=c\n",
    "         print(c)"
   ]
  },
  {
   "cell_type": "code",
   "execution_count": 19,
   "id": "0098eb71-002f-4596-9968-f22d849f8121",
   "metadata": {},
   "outputs": [
    {
     "name": "stdout",
     "output_type": "stream",
     "text": [
      "before swapping values are:\n"
     ]
    },
    {
     "name": "stdin",
     "output_type": "stream",
     "text": [
      "Enter value of x:  10\n",
      "Enter value of y:  20\n"
     ]
    },
    {
     "name": "stdout",
     "output_type": "stream",
     "text": [
      "The value of x after swapping: 20\n",
      "The value of y after swapping: 10\n"
     ]
    }
   ],
   "source": [
    "# Write python program that swap two number with temp variable and without temp variable.\n",
    "print(\"before swapping values are:\")\n",
    "x = input('Enter value of x: ')\n",
    "y = input('Enter value of y: ')\n",
    "temp = x\n",
    "x = y\n",
    "y = temp\n",
    "\n",
    "print('The value of x after swapping:',x)\n",
    "print('The value of y after swapping:',y)"
   ]
  },
  {
   "cell_type": "code",
   "execution_count": 20,
   "id": "ba765f87-0094-4b0e-884b-6582614a30c3",
   "metadata": {},
   "outputs": [
    {
     "name": "stdin",
     "output_type": "stream",
     "text": [
      "Enter value of first variable:  12\n",
      "Enter value of second variable:  24\n"
     ]
    },
    {
     "name": "stdout",
     "output_type": "stream",
     "text": [
      "a is: 24  b is: 12\n"
     ]
    }
   ],
   "source": [
    "#without using third variable \n",
    "a=int(input(\"Enter value of first variable: \"))\n",
    "b=int(input(\"Enter value of second variable: \"))\n",
    "a=a+b\n",
    "b=a-b\n",
    "a=a-b\n",
    "print(\"a is:\",a,\" b is:\",b)"
   ]
  },
  {
   "cell_type": "code",
   "execution_count": 23,
   "id": "a87bbfc0-4edc-4c00-910c-eee971e3f895",
   "metadata": {},
   "outputs": [
    {
     "name": "stdin",
     "output_type": "stream",
     "text": [
      "enter the number 5\n"
     ]
    },
    {
     "name": "stdout",
     "output_type": "stream",
     "text": [
      "number is odd\n"
     ]
    }
   ],
   "source": [
    "#Write a Python program to find whether a given number is even or odd, print out an appropriate message to the user.\n",
    "\n",
    "n=int(input(\"enter the number\"))\n",
    "if (n % 2==0):\n",
    "    print(\"number is even\")\n",
    "elif(n %2 !=0):\n",
    "    print(\"number is odd\")\n",
    "else:\n",
    "    print(\"an appopriate message to the user\")"
   ]
  },
  {
   "cell_type": "code",
   "execution_count": 30,
   "id": "b77dda64-3cc4-4923-b25e-7eb84bd46328",
   "metadata": {},
   "outputs": [
    {
     "name": "stdout",
     "output_type": "stream",
     "text": [
      "Vowel\n"
     ]
    },
    {
     "data": {
      "text/plain": [
       "'\\n x=input(\"enter any latters\")\\n if (x == \\'a\\' or x == \\'e\\' or x == \\'i\\' or x == \\'o\\' or x == \\'u\\' or \\n        x == \\'A\\' or x == \\'E\\' or x == \\'I\\' or x == \\'O\\' or x == \\'U\\' ):\\n        print(\"Vowel\") \\n    else: \\n        print(\"not vowel\") '"
      ]
     },
     "execution_count": 30,
     "metadata": {},
     "output_type": "execute_result"
    }
   ],
   "source": [
    "#Write a Python program to test whether a passed letter is a vowel or not.\n",
    "\n",
    "def vowel(x): \n",
    "  \n",
    "    if (x == 'a' or x == 'e' or x == 'i' or x == 'o' or x == 'u' or \n",
    "        x == 'A' or x == 'E' or x == 'I' or x == 'O' or x == 'U' ):\n",
    "        print(\"Vowel\") \n",
    "    else: \n",
    "        print(\"Consonant\")\n",
    "vowel('A') \n",
    "\n",
    "#2 method\n",
    "'''\n",
    " x=input(\"enter any latters\")\n",
    " if (x == 'a' or x == 'e' or x == 'i' or x == 'o' or x == 'u' or \n",
    "        x == 'A' or x == 'E' or x == 'I' or x == 'O' or x == 'U' ):\n",
    "        print(\"Vowel\") \n",
    "    else: \n",
    "        print(\"not vowel\") '''\n",
    " "
   ]
  },
  {
   "cell_type": "code",
   "execution_count": 32,
   "id": "18ef84cb-ce32-4e00-8879-86a96d74d06e",
   "metadata": {},
   "outputs": [
    {
     "name": "stdin",
     "output_type": "stream",
     "text": [
      "enter the first value 2\n",
      "enter the second value 2\n",
      "enter the third value 4\n"
     ]
    },
    {
     "name": "stdout",
     "output_type": "stream",
     "text": [
      "sum 0\n"
     ]
    }
   ],
   "source": [
    "#Write a Python program to sum of three given integers. However, if two values are equal sum will be zero.\n",
    "x=int(input(\"enter the first value\"))\n",
    "y=int(input(\"enter the second value\"))\n",
    "z=int(input(\"enter the third value\"))\n",
    "sum=0\n",
    "if(x==y or y==z or z==x):\n",
    "    print(\"sum\",sum)\n",
    "else:\n",
    "    print(\"sum\",x+y+z)\n"
   ]
  },
  {
   "cell_type": "code",
   "execution_count": 37,
   "id": "8f8e9a7c-84f5-4e32-a3e9-65685c49c6e2",
   "metadata": {},
   "outputs": [
    {
     "name": "stdin",
     "output_type": "stream",
     "text": [
      "enter the first value 3\n",
      "enter the second value 3\n"
     ]
    },
    {
     "name": "stdout",
     "output_type": "stream",
     "text": [
      "TRUE\n"
     ]
    }
   ],
   "source": [
    "#Write a Python program that will return true if the two given integer values are equal or their sum or difference is 5.\n",
    "a=int(input(\"enter the first value\"))\n",
    "b=int(input(\"enter the second value\"))\n",
    "c=a+b\n",
    "d=a+b\n",
    "if(a==b or c==5 or d==5):\n",
    "    print(\"TRUE\")\n",
    "else:\n",
    "    print(\"FALSE\")"
   ]
  },
  {
   "cell_type": "code",
   "execution_count": 45,
   "id": "1c26d50f-275c-4c90-8d5d-55741a09ca1d",
   "metadata": {},
   "outputs": [
    {
     "name": "stdin",
     "output_type": "stream",
     "text": [
      "enter the number: 7\n"
     ]
    },
    {
     "name": "stdout",
     "output_type": "stream",
     "text": [
      "28\n"
     ]
    }
   ],
   "source": [
    "#Write a python program to sum of the first n positive integers.\n",
    "n=int(input(\"enter the number:\"))\n",
    "sum=0\n",
    "for i in range(0,n+1):\n",
    "    sum=sum+i\n",
    "print(sum)"
   ]
  },
  {
   "cell_type": "code",
   "execution_count": 46,
   "id": "9afccd84-e16d-46cd-8b67-0718ee97dd05",
   "metadata": {},
   "outputs": [
    {
     "name": "stdin",
     "output_type": "stream",
     "text": [
      "Enter a string:  manali\n"
     ]
    },
    {
     "name": "stdout",
     "output_type": "stream",
     "text": [
      "Length of the input string is: 6\n"
     ]
    }
   ],
   "source": [
    "#Write a Python program to calculate the length of a string.\n",
    "str = input(\"Enter a string: \")\n",
    "print(\"Length of the input string is:\", len(str))"
   ]
  },
  {
   "cell_type": "code",
   "execution_count": 49,
   "id": "1cdb6140-0578-4bdc-8932-af32d4215257",
   "metadata": {},
   "outputs": [
    {
     "name": "stdout",
     "output_type": "stream",
     "text": [
      "w 1\n",
      "e 2\n",
      "l 1\n",
      "c 1\n",
      "o 2\n",
      "m 1\n",
      "e 2\n",
      "  1\n",
      "t 1\n",
      "o 2\n"
     ]
    }
   ],
   "source": [
    "#Write a Python program to count the number of characters (character frequency) in a string\n",
    "\n",
    "\n",
    "string = \"welcome to\"\n",
    "\n",
    "for i in string:\n",
    "    frequency = string.count(i)\n",
    "    print(i,frequency)"
   ]
  },
  {
   "cell_type": "code",
   "execution_count": 54,
   "id": "62c78fd9-adee-4c3e-8a5a-aab127f09134",
   "metadata": {},
   "outputs": [
    {
     "name": "stdout",
     "output_type": "stream",
     "text": [
      "3\n"
     ]
    }
   ],
   "source": [
    "#Write a Python program to count occurrences of a substring in a string.\n",
    "string = \"life for life\"\n",
    "print(string.count(\"f\"))\n"
   ]
  },
  {
   "cell_type": "code",
   "execution_count": 57,
   "id": "de5e1145-b852-4ead-9202-3475672b923f",
   "metadata": {},
   "outputs": [],
   "source": [
    "#Write a Python program to count the occurrences of each word in a given sentence.\n",
    "\n"
   ]
  },
  {
   "cell_type": "code",
   "execution_count": null,
   "id": "16bba115-ab2d-458b-ab0a-13ab6b37f8cb",
   "metadata": {},
   "outputs": [],
   "source": []
  }
 ],
 "metadata": {
  "kernelspec": {
   "display_name": "Python 3 (ipykernel)",
   "language": "python",
   "name": "python3"
  },
  "language_info": {
   "codemirror_mode": {
    "name": "ipython",
    "version": 3
   },
   "file_extension": ".py",
   "mimetype": "text/x-python",
   "name": "python",
   "nbconvert_exporter": "python",
   "pygments_lexer": "ipython3",
   "version": "3.11.7"
  }
 },
 "nbformat": 4,
 "nbformat_minor": 5
}
